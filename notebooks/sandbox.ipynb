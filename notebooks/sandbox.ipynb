{
 "cells": [
  {
   "cell_type": "code",
   "execution_count": 20,
   "id": "022993f4",
   "metadata": {},
   "outputs": [
    {
     "name": "stderr",
     "output_type": "stream",
     "text": [
      "/tmp/ipykernel_514446/4163039823.py:17: UserWarning: pandas only supports SQLAlchemy connectable (engine/connection) or database string URI or sqlite3 DBAPI2 connection. Other DBAPI2 objects are not tested. Please consider using SQLAlchemy.\n",
      "  dataframe = psql.read_sql(query, connection)\n"
     ]
    },
    {
     "name": "stdout",
     "output_type": "stream",
     "text": [
      "       id                     tags\n",
      "0  153391                         \n",
      "1  153400                         \n",
      "2  153405                         \n",
      "3  153408  Ukraine nuclearfootball\n",
      "4  153409                         \n"
     ]
    }
   ],
   "source": [
    "import psycopg2 as pg\n",
    "import pandas.io.sql as psql\n",
    "import yaml\n",
    "import json\n",
    "from pathlib import Path\n",
    "\n",
    "with open('../utils/secrets.json', 'r') as f:\n",
    "    config = json.load(f)\n",
    "query = \"\"\"\n",
    "select\n",
    "  id, \n",
    "  array_to_string(array(select jsonb_array_elements_text(hashtags::jsonb)), ' ') as tags\n",
    "from\n",
    "  metabase.posts\n",
    "\"\"\"\n",
    "connection = pg.connect(f\"host={config['host']} dbname={config['database']} user={config['user']} password={config['password']}\")\n",
    "dataframe = psql.read_sql(query, connection)\n",
    "print(dataframe.head())"
   ]
  },
  {
   "cell_type": "code",
   "execution_count": 21,
   "id": "a227a76f",
   "metadata": {},
   "outputs": [],
   "source": [
    "dataframe_filtered = dataframe[dataframe['tags'].str.len()>0]"
   ]
  },
  {
   "cell_type": "code",
   "execution_count": 23,
   "id": "afddec11",
   "metadata": {},
   "outputs": [
    {
     "name": "stderr",
     "output_type": "stream",
     "text": [
      "/tmp/ipykernel_514446/1361170881.py:1: SettingWithCopyWarning: \n",
      "A value is trying to be set on a copy of a slice from a DataFrame.\n",
      "Try using .loc[row_indexer,col_indexer] = value instead\n",
      "\n",
      "See the caveats in the documentation: https://pandas.pydata.org/pandas-docs/stable/user_guide/indexing.html#returning-a-view-versus-a-copy\n",
      "  dataframe_filtered['tags'] = dataframe_filtered['tags'].apply(lambda x: x.lower().strip())\n"
     ]
    }
   ],
   "source": [
    "dataframe_filtered['tags'] = dataframe_filtered['tags'].apply(lambda x: x.lower().strip())"
   ]
  },
  {
   "cell_type": "code",
   "execution_count": 25,
   "id": "10efd39a",
   "metadata": {},
   "outputs": [],
   "source": [
    "tfidfvectorizer = TfidfVectorizer(analyzer='word',stop_words= 'english', min_df=2, max_features=5000)"
   ]
  },
  {
   "cell_type": "code",
   "execution_count": 27,
   "id": "6f271334",
   "metadata": {},
   "outputs": [],
   "source": [
    "tfidf_wm = tfidfvectorizer.fit_transform(dataframe_filtered['tags'].to_list())\n",
    "tfidf_tokens = tfidfvectorizer.get_feature_names_out()"
   ]
  },
  {
   "cell_type": "code",
   "execution_count": null,
   "id": "6951e455",
   "metadata": {},
   "outputs": [],
   "source": [
    "from sklearn.manifold import TSNE\n",
    "embeddings = TSNE(n_components=20, learning_rate='auto', init='random', perplexity=3).fit_transform(tfidf_wm.toarray())"
   ]
  }
 ],
 "metadata": {
  "kernelspec": {
   "display_name": "tide",
   "language": "python",
   "name": "tide"
  },
  "language_info": {
   "codemirror_mode": {
    "name": "ipython",
    "version": 3
   },
   "file_extension": ".py",
   "mimetype": "text/x-python",
   "name": "python",
   "nbconvert_exporter": "python",
   "pygments_lexer": "ipython3",
   "version": "3.9.16"
  }
 },
 "nbformat": 4,
 "nbformat_minor": 5
}
